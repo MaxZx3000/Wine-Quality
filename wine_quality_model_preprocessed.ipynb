{
 "cells": [
  {
   "cell_type": "markdown",
   "metadata": {},
   "source": [
    "# Wine Quality Model Preprocessed\n",
    "\n",
    "Made by: Anthony Kevin Oktavius"
   ]
  }
 ],
 "metadata": {
  "language_info": {
   "name": "python"
  },
  "orig_nbformat": 4
 },
 "nbformat": 4,
 "nbformat_minor": 2
}
