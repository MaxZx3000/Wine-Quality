{
 "cells": [
  {
   "cell_type": "markdown",
   "metadata": {},
   "source": [
    "# Wine Quality Preprocessing (Oversampling)\n",
    "\n",
    "Made by: Anthony Kevin Oktavius"
   ]
  },
  {
   "cell_type": "markdown",
   "metadata": {},
   "source": [
    "Library Import"
   ]
  },
  {
   "cell_type": "code",
   "execution_count": null,
   "metadata": {},
   "outputs": [],
   "source": [
    "import numpy as np\n",
    "import pandas as pd\n",
    "import matplotlib.pyplot as plt\n",
    "import seaborn as sns\n",
    "import klib\n",
    "import plotly\n",
    "import plotly.express as px\n",
    "import shap\n",
    "import hyperopt\n",
    "from collections import Counter\n",
    "from imblearn.over_sampling import RandomOverSampler\n",
    "from imblearn.under_sampling import RandomUnderSampler\n",
    "from sklearn import svm\n",
    "from sklearn.preprocessing import MinMaxScaler, LabelEncoder, StandardScaler\n",
    "from sklearn.linear_model import SGDClassifier, LogisticRegression\n",
    "from sklearn.model_selection import train_test_split, GridSearchCV, cross_val_score\n",
    "from sklearn.metrics import classification_report, confusion_matrix\n",
    "from sklearn.decomposition import PCA\n",
    "from sklearn.ensemble import RandomForestClassifier\n",
    "from sklearn.feature_selection import SelectKBest, f_classif\n",
    "from sklearn.pipeline import make_pipeline\n",
    "from scipy.stats import zscore\n",
    "from statsmodels.stats.outliers_influence import variance_inflation_factor\n",
    "from sklearn.linear_model import SGDClassifier\n",
    "from sklearn.tree import DecisionTreeClassifier\n",
    "from sklearn.svm import SVC"
   ]
  },
  {
   "cell_type": "markdown",
   "metadata": {},
   "source": [
    "In this section, I'm going to look at Wine Quality Oversampling Technique. In our case, we will use 3 types of oversampling technique, which are:\n",
    "\n",
    "* Random Over Sampling\n",
    "* SMOTE\n",
    "* ADASYN"
   ]
  },
  {
   "cell_type": "markdown",
   "metadata": {},
   "source": [
    "## Random Over Sampling"
   ]
  },
  {
   "cell_type": "markdown",
   "metadata": {},
   "source": [
    "![Random Oversampling](https://miro.medium.com/max/375/1*aKJJOozIlVVH1gT-4rYy4w.png)\n",
    "\n",
    "Image Source: https://miro.medium.com/max/375/1*aKJJOozIlVVH1gT-4rYy4w.png\n",
    "\n",
    "Random Oversampling includes duplicating examples from minority classes. The duplicated minority examples will then be added to the original dataset, so it allows the data to be selected again.\n",
    "\n",
    "This technique is effective when we'd like to normalize skewed distributions (mean and standard deviation are not 0). However, in some cases, doing this technique can cause the algorithm to overfit the minority class, since the same data row can be duplicated again."
   ]
  },
  {
   "cell_type": "markdown",
   "metadata": {},
   "source": [
    "## SMOTE"
   ]
  },
  {
   "cell_type": "markdown",
   "metadata": {},
   "source": [
    "![SMOTE](https://editor.analyticsvidhya.com/uploads/64068image3.png)\n",
    "\n",
    "Image Source: https://editor.analyticsvidhya.com/uploads/64068image3.png"
   ]
  },
  {
   "cell_type": "markdown",
   "metadata": {},
   "source": [
    "## ADASYN"
   ]
  },
  {
   "cell_type": "code",
   "execution_count": null,
   "metadata": {},
   "outputs": [],
   "source": [
    "## SMOTE"
   ]
  }
 ],
 "metadata": {
  "language_info": {
   "name": "python"
  },
  "orig_nbformat": 4
 },
 "nbformat": 4,
 "nbformat_minor": 2
}
